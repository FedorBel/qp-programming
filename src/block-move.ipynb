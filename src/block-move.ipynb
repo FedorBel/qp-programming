{
 "cells": [
  {
   "attachments": {},
   "cell_type": "markdown",
   "metadata": {},
   "source": [
    "$\\quad$ [Block-Move Example](https://epubs.siam.org/doi/epdf/10.1137/16M1062569)  \n",
    "\n",
    "$\\quad$ 1.1. Notation. For reference, the main symbols we will use throughout the tutorial and which are described in detail later are as follows:  \n",
    "\n",
    "$$\n",
    "% \\begin{equation}\n",
    "\\begin{array}{cc}\n",
    "\\begin{aligned}\n",
    "& t_k && time~at~knot~point~k \\\\\n",
    "& N && number~of~trajectory~(spline)~segments \\\\\n",
    "& h_k = t_{k+1} − t_k && duration~of~spline~segment~k \\\\\n",
    "& x_k = x(t_k) && state~at~knot~point~k \\\\\n",
    "& u_k = u(t_k) && control~at~knot~point~k \\\\\n",
    "& w_k = w(t_k, x_k, u_k) && integrand~of~objective~function~at~knot~point~k \\\\\n",
    "& f_k = f(t_k, x_k, u_k) && system~dynamics~at~knot~point~k \\\\\n",
    "& \\dot{q} = \\frac{\\mathrm{d}}{\\mathrm{d}t}q,~~~~\\ddot{q} = \\frac{\\mathrm{d^2}}{\\mathrm{d}t^2} && first~and~second~time-derivatives~of~q\n",
    "\\end{aligned}\n",
    "\\end{array}\n",
    "% \\end{equation}\n",
    "$$\n",
    "$\\quad$ In some cases we will use the subscript $k + \\frac{1}{2}$ to indicate the midpoint of spline segment k. For example, u_k gives the control at the beginning of segment k, and $u_{k+\\frac{1}{2}}$ gives the control at the midpoint of segment k.\n"
   ]
  },
  {
   "cell_type": "code",
   "execution_count": 1,
   "metadata": {},
   "outputs": [
    {
     "name": "stdout",
     "output_type": "stream",
     "text": [
      "-----------------------------------------------------------------\n",
      "           OSQP v0.6.2  -  Operator Splitting QP Solver\n",
      "              (c) Bartolomeo Stellato,  Goran Banjac\n",
      "        University of Oxford  -  Stanford University 2021\n",
      "-----------------------------------------------------------------\n",
      "problem:  variables n = 299, constraints m = 202\n",
      "          nnz(P) + nnz(A) = 894\n",
      "settings: linear system solver = qdldl,\n",
      "          eps_abs = 1.0e-03, eps_rel = 1.0e-03,\n",
      "          eps_prim_inf = 1.0e-04, eps_dual_inf = 1.0e-04,\n",
      "          rho = 1.00e-01 (adaptive),\n",
      "          sigma = 1.00e-06, alpha = 1.60, max_iter = 4000\n",
      "          check_termination: on (interval 25),\n",
      "          scaling: on, scaled_termination: off\n",
      "          warm start: on, polish: off, time_limit: off\n",
      "\n",
      "iter   objective    pri res    dua res    rho        time\n",
      "   1   0.0000e+00   1.00e+00   1.00e+02   1.00e-01   3.23e-04s\n",
      "  25   5.5867e+00   8.56e-04   4.74e-04   1.00e-01   5.00e-04s\n",
      "\n",
      "status:               solved\n",
      "number of iterations: 25\n",
      "optimal objective:    5.5867\n",
      "run time:             5.21e-04s\n",
      "optimal rho estimate: 1.02e-01\n",
      "\n"
     ]
    }
   ],
   "source": [
    "import osqp\n",
    "import numpy as np\n",
    "from scipy import sparse\n",
    "\n",
    "N = 100\n",
    "dt = 1 / N\n",
    "deviation_weight = 0.0\n",
    "speed_weight = 0.0\n",
    "accel_weight = dt / 2\n",
    "\n",
    "# Define problem data\n",
    "\n",
    "# hessian\n",
    "x_start_index = 0\n",
    "v_start_index = x_start_index + N\n",
    "u_start_index = v_start_index + N\n",
    "matrix_size = 3 * N - 1\n",
    "hessian = np.zeros((matrix_size, matrix_size))\n",
    "for i in range(N):\n",
    "    hessian[x_start_index + i, x_start_index + i] = deviation_weight * 2\n",
    "    hessian[v_start_index + i, v_start_index + i] = speed_weight * 2\n",
    "    if (i != N - 1):\n",
    "        hessian[u_start_index + i, u_start_index + i] = accel_weight * 2\n",
    "\n",
    "P = sparse.csc_matrix(hessian)\n",
    "\n",
    "# constraints\n",
    "x_start_index = 0\n",
    "v_start_index = x_start_index + N\n",
    "u_start_index = v_start_index + N\n",
    "cons_x_update_start_index = 0\n",
    "cons_v_update_start_index = cons_x_update_start_index + N - 1\n",
    "cons_x_start_index = cons_v_update_start_index + N - 1\n",
    "cons_x_end_index = cons_x_start_index + 1\n",
    "cons_v_start_index = cons_x_end_index + 1\n",
    "cons_v_end_index = cons_v_start_index + 1\n",
    "cons = np.zeros((2 * (N - 1) + 4, 3 * N - 1))\n",
    "for i in range(N - 1):\n",
    "    cons[cons_x_update_start_index + i, x_start_index + i + 1] = cons[cons_v_update_start_index + i, v_start_index + i + 1] = 1\n",
    "    cons[cons_x_update_start_index + i, x_start_index + i] = cons[cons_v_update_start_index +i, v_start_index + i] = -1\n",
    "    cons[cons_x_update_start_index + i, v_start_index + i + 1] = -dt / 2\n",
    "    cons[cons_x_update_start_index + i, v_start_index + i] = -dt / 2\n",
    "\n",
    "    if (i != N - 2):\n",
    "        cons[cons_v_update_start_index + i, u_start_index + i + 1] = -dt / 2\n",
    "    cons[cons_v_update_start_index + i, u_start_index + i] = -dt / 2\n",
    "\n",
    "cons[cons_x_start_index, x_start_index] = cons[cons_v_start_index, v_start_index] = cons[cons_v_end_index, v_start_index + N - 1] = cons[cons_x_end_index, x_start_index + N - 1] = 1\n",
    "\n",
    "# bounds\n",
    "lower_bound = np.zeros((2 * (N - 1) + 4, 1))\n",
    "upper_bound = np.zeros((2 * (N - 1) + 4, 1))\n",
    "for i in range(N - 1):\n",
    "    lower_bound[cons_x_update_start_index + i] = upper_bound[cons_x_update_start_index + i] = 0\n",
    "    lower_bound[cons_v_update_start_index + i] = upper_bound[cons_v_update_start_index + i] = 0\n",
    "\n",
    "lower_bound[cons_x_start_index] = upper_bound[cons_x_start_index] = 0\n",
    "lower_bound[cons_x_end_index] = upper_bound[cons_x_end_index] = 1\n",
    "lower_bound[cons_v_start_index] = upper_bound[cons_v_start_index] = 0\n",
    "lower_bound[cons_v_end_index] = upper_bound[cons_v_end_index] = 0\n",
    "\n",
    "A = sparse.csc_matrix(cons)\n",
    "l = lower_bound\n",
    "u = upper_bound\n",
    "\n",
    "# Create an OSQP object\n",
    "prob = osqp.OSQP()\n",
    "\n",
    "# Setup workspace and change alpha parameter\n",
    "prob.setup(P=P, A=A, l=l, u=u)\n",
    "\n",
    "# Solve problem\n",
    "res = prob.solve()"
   ]
  },
  {
   "cell_type": "code",
   "execution_count": 2,
   "metadata": {},
   "outputs": [],
   "source": [
    "# analytic solution\n",
    "def f(t):\n",
    "    return 3 * t * t - 2 * t * t * t"
   ]
  },
  {
   "cell_type": "code",
   "execution_count": 3,
   "metadata": {},
   "outputs": [
    {
     "data": {
      "image/png": "[encoded data removed]",
      "text/plain": [
       "<Figure size 640x480 with 1 Axes>"
      ]
     },
     "metadata": {},
     "output_type": "display_data"
    }
   ],
   "source": [
    "import matplotlib.pyplot as plt\n",
    "\n",
    "t = np.arange(0, 1, dt)\n",
    "x = res.x[:N]\n",
    "anal_x = [f(i) for i in t]\n",
    "plt.plot(t, x, label=\"osqp\")\n",
    "plt.plot(t, anal_x, label=\"anal\")\n",
    "plt.legend(loc=\"upper left\")\n",
    "plt.xlabel('t')\n",
    "plt.ylabel('x')\n",
    "plt.show()"
   ]
  }
 ],
 "metadata": {
  "kernelspec": {
   "display_name": "Python 3",
   "language": "python",
   "name": "python3"
  },
  "language_info": {
   "codemirror_mode": {
    "name": "ipython",
    "version": 3
   },
   "file_extension": ".py",
   "mimetype": "text/x-python",
   "name": "python",
   "nbconvert_exporter": "python",
   "pygments_lexer": "ipython3",
   "version": "3.8.10"
  },
  "orig_nbformat": 4,
  "vscode": {
   "interpreter": {
    "hash": "31f2aee4e71d21fbe5cf8b01ff0e069b9275f58929596ceb00d14d90e3e16cd6"
   }
  }
 },
 "nbformat": 4,
 "nbformat_minor": 2
}
